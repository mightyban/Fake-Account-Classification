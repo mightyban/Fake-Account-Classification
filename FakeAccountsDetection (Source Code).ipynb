{
 "cells": [
  {
   "cell_type": "code",
   "execution_count": 2,
   "metadata": {},
   "outputs": [],
   "source": [
    "#IMPORTING THE LIBRARIES\n",
    "import numpy as np\n",
    "import matplotlib.pyplot as plt\n",
    "import pandas as pd\n",
    "%matplotlib inline\n",
    "\n",
    "#for feature scaling\n",
    "from sklearn.ensemble import ExtraTreesClassifier\n",
    "\n",
    "#for splitting\n",
    "from sklearn.model_selection import train_test_split\n",
    "\n",
    "#for classification\n",
    "from sklearn.neighbors import KNeighborsClassifier\n",
    "from sklearn import svm\n",
    "from sklearn.naive_bayes import GaussianNB\n",
    "\n",
    "#for evaluation\n",
    "from sklearn.metrics import plot_confusion_matrix\n",
    "from sklearn.metrics import confusion_matrix, accuracy_score, f1_score, precision_score, recall_score\n",
    "from sklearn.model_selection import cross_val_score\n",
    "\n",
    "#ensembling\n",
    "from numpy import mean\n",
    "from numpy import std\n",
    "from sklearn.model_selection import RepeatedStratifiedKFold\n",
    "from sklearn.linear_model import LogisticRegression\n",
    "from sklearn.tree import DecisionTreeClassifier\n",
    "from sklearn.linear_model import LogisticRegression\n",
    "from sklearn.ensemble import StackingClassifier"
   ]
  },
  {
   "cell_type": "code",
   "execution_count": 3,
   "metadata": {},
   "outputs": [
    {
     "name": "stdout",
     "output_type": "stream",
     "text": [
      "Keys of the dataset: \n",
      "Index(['profile pic', 'nums/length username', 'fullname words',\n",
      "       'nums/length fullname', 'name==username', 'description length',\n",
      "       'external URL', 'private', '#posts', '#followers', '#follows', 'fake'],\n",
      "      dtype='object')\n",
      "Datatypes of dataset: \n",
      "profile pic               int64\n",
      "nums/length username    float64\n",
      "fullname words            int64\n",
      "nums/length fullname    float64\n",
      "name==username            int64\n",
      "description length        int64\n",
      "external URL              int64\n",
      "private                   int64\n",
      "#posts                    int64\n",
      "#followers                int64\n",
      "#follows                  int64\n",
      "fake                      int64\n",
      "dtype: object\n",
      "Count of the dataset: \n",
      "profile pic             696\n",
      "nums/length username    696\n",
      "fullname words          696\n",
      "nums/length fullname    696\n",
      "name==username          696\n",
      "description length      696\n",
      "external URL            696\n",
      "private                 696\n",
      "#posts                  696\n",
      "#followers              696\n",
      "#follows                696\n",
      "fake                    696\n",
      "dtype: int64\n"
     ]
    }
   ],
   "source": [
    "#LOADING THE DATASET\n",
    "profiles_data = pd.read_csv('accounts_dataset.csv')\n",
    "\n",
    "#Displaying specifications of the dataset\n",
    "print(\"Keys of the dataset: \\n{}\".format(profiles_data.keys()))\n",
    "print(\"Datatypes of dataset: \\n{}\".format(profiles_data.dtypes))\n",
    "print(\"Count of the dataset: \\n{}\".format(profiles_data.count()))"
   ]
  },
  {
   "cell_type": "code",
   "execution_count": 4,
   "metadata": {},
   "outputs": [
    {
     "data": {
      "image/png": "[encoded data removed]",
      "text/plain": [
       "<Figure size 432x288 with 2 Axes>"
      ]
     },
     "metadata": {
      "needs_background": "light"
     },
     "output_type": "display_data"
    }
   ],
   "source": [
    "#FEATURE SCALING USING NORMALIZATION\n",
    "from sklearn.preprocessing import MinMaxScaler\n",
    "import seaborn as sns\n",
    "\n",
    "mn = MinMaxScaler()\n",
    "scaled_data = mn.fit_transform(profiles_data)\n",
    "scaled_data = pd.DataFrame(scaled_data, columns = profiles_data.columns)\n",
    "\n",
    "#COMPARING ORIGINAL AND SCALED DATA\n",
    "fig, ax = plt.subplots(1,2)\n",
    "sns.distplot(profiles_data, ax = ax[0], color='y')\n",
    "ax[0].set_title(\"Original Data\")\n",
    "sns.distplot(scaled_data, ax=ax[1])\n",
    "ax[1].set_title(\"Scaled data\")\n",
    "plt.show()"
   ]
  },
  {
   "cell_type": "code",
   "execution_count": 5,
   "metadata": {},
   "outputs": [
    {
     "name": "stdout",
     "output_type": "stream",
     "text": [
      "[0.29286796 0.21073985 0.06186022 0.02637599 0.01349904 0.12782484\n",
      " 0.05376969 0.01838946 0.0944753  0.10019765]\n"
     ]
    },
    {
     "data": {
      "image/png": "[encoded data removed]",
      "text/plain": [
       "<Figure size 432x288 with 1 Axes>"
      ]
     },
     "metadata": {
      "needs_background": "light"
     },
     "output_type": "display_data"
    }
   ],
   "source": [
    "#FEATURE SELECTION VIA ExtraTreesClassifier\n",
    "x = scaled_data.iloc[:,0:10]\n",
    "y = scaled_data.iloc[:,-1]\n",
    "fs = ExtraTreesClassifier()\n",
    "fs.fit(x,y)\n",
    "print(fs.feature_importances_) \n",
    "\n",
    "#DISPLAYING GRAPH OF FEATURE IMPORTANCE\n",
    "feat_importances = pd.Series(fs.feature_importances_, index=x.columns)\n",
    "feat_importances.nlargest(5).plot(kind='barh', color = 'navy')\n",
    "plt.show()"
   ]
  },
  {
   "cell_type": "code",
   "execution_count": 6,
   "metadata": {},
   "outputs": [],
   "source": [
    "#CREATING NEW DATASET WITH THE BEST FEATURES\n",
    "#dropping features with small values\n",
    "new_data = scaled_data.drop(['fullname words' , 'nums/length fullname' , 'name==username', 'private', '#follows', 'external URL' ], axis = 1)\n",
    "\n",
    "X = new_data.iloc[:,0:5]\n",
    "y = new_data.fake"
   ]
  },
  {
   "cell_type": "code",
   "execution_count": 7,
   "metadata": {},
   "outputs": [
    {
     "name": "stdout",
     "output_type": "stream",
     "text": [
      "X_train shape: (556, 5)\n",
      "y_train shape: (556,)\n",
      "X_test shape: (140, 5)\n",
      "y_test shape: (140,)\n"
     ]
    }
   ],
   "source": [
    "#DATA SPLITTING\n",
    "\n",
    "\n",
    "#test_size =0.2 splits the data into 80% train and 20% test set\n",
    "X_train,X_test,y_train,y_test = train_test_split(X,y,test_size=0.2,random_state=0)\n",
    "\n",
    "#DISPLAY SPLIT DATA\n",
    "print(\"X_train shape: {}\".format(X_train.shape))\n",
    "print(\"y_train shape: {}\".format(y_train.shape))\n",
    "print(\"X_test shape: {}\".format(X_test.shape))\n",
    "print(\"y_test shape: {}\".format(y_test.shape))"
   ]
  },
  {
   "cell_type": "code",
   "execution_count": 8,
   "metadata": {},
   "outputs": [
    {
     "name": "stdout",
     "output_type": "stream",
     "text": [
      "Accuracy:    86.78%\n",
      "Precision:  87.92%\n",
      "Recall:      85.82%\n",
      "F1 - score:  86.65%\n"
     ]
    }
   ],
   "source": [
    "#CLASSIFICATION VIA KNN\n",
    "#Create a KNN classifier\n",
    "knn = KNeighborsClassifier(n_neighbors=5)\n",
    "\n",
    "#Train the model using the training sets\n",
    "knn.fit(X_train, y_train)\n",
    "\n",
    "#Cross Validation\n",
    "cv = RepeatedStratifiedKFold(n_splits=10, n_repeats=3, random_state=1)\n",
    "\n",
    "acc = cross_val_score(knn, X, y, scoring='accuracy', cv=cv, n_jobs=-1)\n",
    "pre = cross_val_score(knn, X, y, scoring='precision', cv=cv, n_jobs=-1)\n",
    "rec = cross_val_score(knn, X, y, scoring='recall', cv=cv, n_jobs=-1)\n",
    "f1 = cross_val_score(knn, X, y, scoring='f1', cv=cv, n_jobs=-1)\n",
    "\n",
    "print(\"Accuracy:    {:.2f}%\".format(acc.mean()*100))\n",
    "print(\"Precision:  {:.2f}%\".format(pre.mean()*100))\n",
    "print(\"Recall:      {:.2f}%\".format(rec.mean()*100))\n",
    "print(\"F1 - score:  {:.2f}%\".format(f1.mean()*100))"
   ]
  },
  {
   "cell_type": "code",
   "execution_count": 10,
   "metadata": {},
   "outputs": [
    {
     "name": "stdout",
     "output_type": "stream",
     "text": [
      "Accuracy:    89.04%\n",
      "Precision:  93.43%\n",
      "Recall:      84.20%\n",
      "F1 - score:  88.43%\n"
     ]
    }
   ],
   "source": [
    "#CLASSIFICATION VIA SVM\n",
    "from sklearn.svm import SVC\n",
    "#Create SVM Classifier\n",
    "svm = SVC(kernel='linear') # Linear Kernel\n",
    "\n",
    "#Train the model using the training sets\n",
    "svm.fit(X_train, y_train)\n",
    "\n",
    "#Cross Validation\n",
    "cv = RepeatedStratifiedKFold(n_splits=10, n_repeats=3, random_state=1)\n",
    "\n",
    "acc = cross_val_score(svm, X, y, scoring='accuracy', cv=cv, n_jobs=-1)\n",
    "pre = cross_val_score(svm, X, y, scoring='precision', cv=cv, n_jobs=-1)\n",
    "rec = cross_val_score(svm, X, y, scoring='recall', cv=cv, n_jobs=-1)\n",
    "f1 = cross_val_score(svm, X, y, scoring='f1', cv=cv, n_jobs=-1)\n",
    "\n",
    "print(\"Accuracy:    {:.2f}%\".format(acc.mean()*100))\n",
    "print(\"Precision:  {:.2f}%\".format(pre.mean()*100))\n",
    "print(\"Recall:      {:.2f}%\".format(rec.mean()*100))\n",
    "print(\"F1 - score:  {:.2f}%\".format(f1.mean()*100))"
   ]
  },
  {
   "cell_type": "code",
   "execution_count": 11,
   "metadata": {},
   "outputs": [
    {
     "name": "stdout",
     "output_type": "stream",
     "text": [
      "Accuracy:    74.86%\n",
      "Precision:  67.41%\n",
      "Recall:      97.32%\n",
      "F1 - score:  79.55%\n"
     ]
    }
   ],
   "source": [
    "#CLASSIFICATION VIA Gaussian NB\n",
    "#Create a NB Classifier\n",
    "gnb = GaussianNB()\n",
    "\n",
    "#Train the model using the training sets\n",
    "gnb.fit(X_train, y_train)\n",
    "\n",
    "#Cross Validation\n",
    "cv = RepeatedStratifiedKFold(n_splits=10, n_repeats=3, random_state=1)\n",
    "\n",
    "acc = cross_val_score(gnb, X, y, scoring='accuracy', cv=cv, n_jobs=-1)\n",
    "pre = cross_val_score(gnb, X, y, scoring='precision', cv=cv, n_jobs=-1)\n",
    "rec = cross_val_score(gnb, X, y, scoring='recall', cv=cv, n_jobs=-1)\n",
    "f1 = cross_val_score(gnb, X, y, scoring='f1', cv=cv, n_jobs=-1)\n",
    "\n",
    "print(\"Accuracy:    {:.2f}%\".format(acc.mean()*100))\n",
    "print(\"Precision:  {:.2f}%\".format(pre.mean()*100))\n",
    "print(\"Recall:      {:.2f}%\".format(rec.mean()*100))\n",
    "print(\"F1 - score:  {:.2f}%\".format(f1.mean()*100))"
   ]
  },
  {
   "cell_type": "code",
   "execution_count": 12,
   "metadata": {},
   "outputs": [
    {
     "name": "stdout",
     "output_type": "stream",
     "text": [
      ">lr 89.23 (0.04) Accuracy\n",
      ">lr 94.20 (0.04) Precision\n",
      ">lr 83.72 (0.06) Recall\n",
      ">lr 88.52 (0.04) F1\n",
      ">knn 86.78 (0.03) Accuracy\n",
      ">knn 87.92 (0.05) Precision\n",
      ">knn 85.82 (0.05) Recall\n",
      ">knn 86.65 (0.03) F1\n",
      ">cart 87.41 (0.04) Accuracy\n",
      ">cart 87.01 (0.05) Precision\n",
      ">cart 87.83 (0.05) Recall\n",
      ">cart 87.53 (0.04) F1\n",
      ">svm 89.23 (0.04) Accuracy\n",
      ">svm 93.03 (0.05) Precision\n",
      ">svm 85.06 (0.06) Recall\n",
      ">svm 88.71 (0.04) F1\n",
      ">bayes 74.86 (0.04) Accuracy\n",
      ">bayes 67.41 (0.04) Precision\n",
      ">bayes 97.32 (0.03) Recall\n",
      ">bayes 79.55 (0.02) F1\n",
      ">stacking 89.61 (0.04) Accuracy\n",
      ">stacking 91.76 (0.05) Precision\n",
      ">stacking 87.26 (0.05) Recall\n",
      ">stacking 89.22 (0.03) F1\n"
     ]
    }
   ],
   "source": [
    "# via STACKING\n",
    "# get a stacking ensemble of models\n",
    "def get_stacking():\n",
    "\t# define the base models\n",
    "\tlevel0 = list()\n",
    "\tlevel0.append(('lr', LogisticRegression()))\n",
    "\tlevel0.append(('knn', KNeighborsClassifier()))\n",
    "\tlevel0.append(('cart', DecisionTreeClassifier()))\n",
    "\tlevel0.append(('svm', SVC()))\n",
    "\tlevel0.append(('bayes', GaussianNB()))\n",
    "\t# define meta learner model\n",
    "\tlevel1 = LogisticRegression()\n",
    "\t# define the stacking ensemble\n",
    "\tmodel = StackingClassifier(estimators=level0, final_estimator=level1, cv=10)\n",
    "\treturn model\n",
    "\n",
    "# get a list of models to evaluate\n",
    "def get_models():\n",
    "\tmodels = dict()\n",
    "\tmodels['lr'] = LogisticRegression()\n",
    "\tmodels['knn'] = KNeighborsClassifier()\n",
    "\tmodels['cart'] = DecisionTreeClassifier()\n",
    "\tmodels['svm'] = SVC()\n",
    "\tmodels['bayes'] = GaussianNB()\n",
    "\tmodels['stacking'] = get_stacking()\n",
    "\treturn models\n",
    "\n",
    "# get the models to evaluate\n",
    "models = get_models()\n",
    "# evaluate the models and store results\n",
    "acc, names = list(), list()\n",
    "for name, model in models.items():\n",
    "\tcv = RepeatedStratifiedKFold(n_splits=10, n_repeats=3, random_state=1)    \n",
    "\taccuracy_score = cross_val_score(model, X, y, scoring='accuracy', cv=cv, n_jobs=-1)\n",
    "\tacc.append(accuracy_score)\n",
    "\tnames.append(name)\n",
    "\tprecision_score = cross_val_score(model, X, y, scoring='precision', cv=cv, n_jobs=-1)\n",
    "\trecall_score = cross_val_score(model, X, y, scoring='recall', cv=cv, n_jobs=-1)\n",
    "\tf1_score = cross_val_score(model, X, y, scoring='f1', cv=cv, n_jobs=-1)\n",
    "\n",
    "\tprint('>%s %.2f (%.2f)' % (name, mean(accuracy_score)*100, std(accuracy_score)), 'Accuracy')\n",
    "\tprint('>%s %.2f (%.2f)' % (name, mean(precision_score)*100, std(precision_score)), 'Precision') \n",
    "\tprint('>%s %.2f (%.2f)' % (name, mean(recall_score)*100, std(recall_score)), 'Recall')   \n",
    "\tprint('>%s %.2f (%.2f)' % (name, mean(f1_score)*100, std(f1_score)), 'F1')"
   ]
  },
  {
   "cell_type": "code",
   "execution_count": 13,
   "metadata": {},
   "outputs": [
    {
     "name": "stdout",
     "output_type": "stream",
     "text": [
      "Accuracy:    91.52%\n",
      "Precission:  92.21%\n",
      "Recall:      90.90%\n",
      "F1 - score:  91.41%\n"
     ]
    }
   ],
   "source": [
    "#via BOOSTING\n",
    "# evaluate gradient boosting algorithm for classification\n",
    "from sklearn.datasets import make_classification\n",
    "from sklearn.ensemble import GradientBoostingClassifier\n",
    "\n",
    "# define the model\n",
    "model = GradientBoostingClassifier()\n",
    "# define the evaluation method\n",
    "cv = RepeatedStratifiedKFold(n_splits=10, n_repeats=3, random_state=1)\n",
    "# evaluate the model on the dataset\n",
    "acc = cross_val_score(model, X, y, scoring='accuracy', cv=cv, n_jobs=-1)\n",
    "pre = cross_val_score(model, X, y, scoring='precision', cv=cv, n_jobs=-1)\n",
    "rec = cross_val_score(model, X, y, scoring='recall', cv=cv, n_jobs=-1)\n",
    "f1 = cross_val_score(model, X, y, scoring='f1', cv=cv, n_jobs=-1)\n",
    "\n",
    "# report performance\n",
    "print(\"Accuracy:    {:.2f}%\".format(acc.mean()*100))\n",
    "print(\"Precission:  {:.2f}%\".format(pre.mean()*100))\n",
    "print(\"Recall:      {:.2f}%\".format(rec.mean()*100))\n",
    "print(\"F1 - score:  {:.2f}%\".format(f1.mean()*100))\n"
   ]
  },
  {
   "cell_type": "code",
   "execution_count": 14,
   "metadata": {},
   "outputs": [
    {
     "name": "stdout",
     "output_type": "stream",
     "text": [
      ">10 90.18 (0.03) Accuracy\n",
      ">10 91.28 (0.05) Precision\n",
      ">10 88.79 (0.05) Recall\n",
      ">10 90.53 (0.03) F1\n",
      ">50 90.71 (0.03) Accuracy\n",
      ">50 91.12 (0.05) Precision\n",
      ">50 89.94 (0.04) Recall\n",
      ">50 90.23 (0.03) F1\n",
      ">100 90.57 (0.03) Accuracy\n",
      ">100 90.85 (0.05) Precision\n",
      ">100 90.51 (0.04) Recall\n",
      ">100 90.29 (0.03) F1\n",
      ">500 90.57 (0.03) Accuracy\n",
      ">500 91.07 (0.05) Precision\n",
      ">500 90.51 (0.04) Recall\n",
      ">500 90.77 (0.03) F1\n",
      ">1000 90.56 (0.03) Accuracy\n",
      ">1000 91.11 (0.05) Precision\n",
      ">1000 90.61 (0.04) Recall\n",
      ">1000 90.84 (0.03) F1\n",
      ">5000 90.80 (0.03) Accuracy\n",
      ">5000 91.34 (0.05) Precision\n",
      ">5000 90.80 (0.04) Recall\n",
      ">5000 90.74 (0.03) F1\n"
     ]
    }
   ],
   "source": [
    "#via BAGGING\n",
    "from sklearn.ensemble import BaggingClassifier\n",
    "# get a list of models to evaluate\n",
    "def get_models():\n",
    "\tmodels = dict()\n",
    "\t# define number of trees to consider\n",
    "\tn_trees = [10, 50, 100, 500, 1000, 5000] \n",
    "\tfor n in n_trees:\n",
    "\t\tmodels[str(n)] = BaggingClassifier(n_estimators=n)\n",
    "\treturn models\n",
    " \n",
    "# get the models to evaluate\n",
    "models = get_models()\n",
    "# evaluate the models and store results\n",
    "for name, model in models.items():\n",
    "\tcv = RepeatedStratifiedKFold(n_splits=10, n_repeats=3, random_state=1)    \n",
    "\taccuracy_score = cross_val_score(model, X, y, scoring='accuracy', cv=cv, n_jobs=-1)\n",
    "\tprecision_score = cross_val_score(model, X, y, scoring='precision', cv=cv, n_jobs=-1)\n",
    "\trecall_score = cross_val_score(model, X, y, scoring='recall', cv=cv, n_jobs=-1)\n",
    "\tf1_score = cross_val_score(model, X, y, scoring='f1', cv=cv, n_jobs=-1)\n",
    "\n",
    "\tprint('>%s %.2f (%.2f)' % (name, mean(accuracy_score)*100, std(accuracy_score)), 'Accuracy')\n",
    "\tprint('>%s %.2f (%.2f)' % (name, mean(precision_score)*100, std(precision_score)), 'Precision') \n",
    "\tprint('>%s %.2f (%.2f)' % (name, mean(recall_score)*100, std(recall_score)), 'Recall')   \n",
    "\tprint('>%s %.2f (%.2f)' % (name, mean(f1_score)*100, std(f1_score)), 'F1')    "
   ]
  }
 ],
 "metadata": {
  "kernelspec": {
   "display_name": "Python 3",
   "language": "python",
   "name": "python3"
  },
  "language_info": {
   "codemirror_mode": {
    "name": "ipython",
    "version": 3
   },
   "file_extension": ".py",
   "mimetype": "text/x-python",
   "name": "python",
   "nbconvert_exporter": "python",
   "pygments_lexer": "ipython3",
   "version": "3.8.3"
  }
 },
 "nbformat": 4,
 "nbformat_minor": 4
}
